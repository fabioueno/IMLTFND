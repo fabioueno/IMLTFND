{
 "cells": [
  {
   "cell_type": "markdown",
   "metadata": {},
   "source": [
    "# Multiple Linear Regression\n",
    "\n",
    "In the last section, you saw how we can predict life expectancy using BMI. Here, BMI was the **predictor**, also known as an independent variable. A predictor is a variable you're looking at in order to make predictions about other variables, while the values you are trying to predict are known as dependent variables. In this case, life expectancy was the dependent variable.\n",
    "\n",
    "Now, let’s say we get new data on each person’s heart rate as well. Can we create a prediction of life expectancy using both BMI and heart rate?\n",
    "\n",
    "Absolutely! As we saw in the previous video, we can do that using multiple linear regression.\n",
    "\n",
    "If the outcome you want to predict depends on more than one variable, you can make a more complicated model that takes this into account. As long as they're relevant to the situation, using more independent/predictor variables can help you get a better prediction.\n",
    "\n",
    "When there's just one predictor, the linear regression model is a line, but as you add more predictor variables, you're adding more dimensions to the picture.\n",
    "\n",
    "When you have one predictor variable, the equation of the line is\n",
    "\n",
    "$$\n",
    "y = m x + by=mx+b\n",
    "$$\n",
    "\n",
    "And the plot might look something like this:\n",
    "\n",
    "![Linear Regression with one predictor variable](2d-linear-regression.png)\n",
    "\n",
    "Adding a predictor variable to go to two predictor variables means that the predicting equation is:\n",
    "\n",
    "$$\n",
    "y = m_1 x_1 + m_2 x_2 + b\n",
    "$$\n",
    "\n",
    "To represent this graphically, we'll need a three-dimensional plot, with the linear regression model represented as a plane:\n",
    "\n",
    "![Linear Regression with two predictor variables](3d-linear-regression.png)\n",
    "\n",
    "You can use more than two predictor variables - in fact, you should use as many as is useful! If you use nn predictor variables, then the model can be represented by the equation\n",
    "\n",
    "$$\n",
    "y = m_{1} x_{1} + m_{2} x_{2} + m_{3} x_{3}+ ... +m_{n} x_{n} + b\n",
    "$$\n",
    "\n",
    "As you make a model with more predictor variables, it becomes harder to visualise, but luckily, everything else about linear regression stays the same. We can still fit models and make predictions in exactly the same way - time to try it!"
   ]
  },
  {
   "cell_type": "markdown",
   "metadata": {},
   "source": [
    "## Programming Quiz: Multiple Linear Regression\n",
    "\n",
    "In this quiz, you'll be using the [Boston house-prices dataset](https://archive.ics.uci.edu/ml/machine-learning-databases/housing). The dataset consists of 13 features of 506 houses and the median home value in $1000's. You'll fit a model on the 13 features to predict the value of the houses.\n",
    "\n",
    "You'll need to complete each of the following steps:\n",
    "\n",
    "**1. Build a linear regression model**\n",
    "\n",
    "* Create a regression model using scikit-learn's `LinearRegression` and assign it to `model`.\n",
    "* Fit the model to the data.\n",
    "\n",
    "**2. Predict using the model**\n",
    "\n",
    "* Predict the value of `sample_house`."
   ]
  },
  {
   "cell_type": "code",
   "execution_count": 1,
   "metadata": {},
   "outputs": [
    {
     "data": {
      "text/plain": [
       "array([23.68284712])"
      ]
     },
     "execution_count": 1,
     "metadata": {},
     "output_type": "execute_result"
    }
   ],
   "source": [
    "from sklearn.linear_model import LinearRegression\n",
    "from sklearn.datasets import load_boston\n",
    "\n",
    "# Load the data from the boston house-prices dataset \n",
    "boston_data = load_boston()\n",
    "x = boston_data['data']\n",
    "y = boston_data['target']\n",
    "\n",
    "# Make and fit the linear regression model\n",
    "# TODO: Fit the model and assign it to the model variable\n",
    "model = LinearRegression()\n",
    "model.fit(x, y)\n",
    "\n",
    "# Make a prediction using the model\n",
    "sample_house = [[2.29690000e-01, 0.00000000e+00, 1.05900000e+01, 0.00000000e+00, 4.89000000e-01,\n",
    "                6.32600000e+00, 5.25000000e+01, 4.35490000e+00, 4.00000000e+00, 2.77000000e+02,\n",
    "                1.86000000e+01, 3.94870000e+02, 1.09700000e+01]]\n",
    "\n",
    "# TODO: Predict housing price for the sample_house\n",
    "prediction = model.predict(sample_house)\n",
    "prediction"
   ]
  }
 ],
 "metadata": {
  "kernelspec": {
   "display_name": "Python 3",
   "language": "python",
   "name": "python3"
  },
  "language_info": {
   "codemirror_mode": {
    "name": "ipython",
    "version": 3
   },
   "file_extension": ".py",
   "mimetype": "text/x-python",
   "name": "python",
   "nbconvert_exporter": "python",
   "pygments_lexer": "ipython3",
   "version": "3.8.5"
  }
 },
 "nbformat": 4,
 "nbformat_minor": 4
}
