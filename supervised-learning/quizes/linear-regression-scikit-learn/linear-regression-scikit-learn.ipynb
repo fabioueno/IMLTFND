{
 "cells": [
  {
   "cell_type": "markdown",
   "metadata": {},
   "source": [
    "# Linear Regression\n",
    "\n",
    "In this section, you'll use linear regression to predict life expectancy from body mass index (BMI). Before you do that, let's go over the tools required to build this model.\n",
    "\n",
    "For your linear regression model, you'll be using scikit-learn's `LinearRegression` class. This class provides the function `fit()` to fit the model to your data.\n",
    "\n",
    "```python\n",
    ">>> from sklearn.linear_model import LinearRegression\n",
    ">>> model = LinearRegression()\n",
    ">>> model.fit(x_values, y_values)\n",
    "```\n",
    "\n",
    "In the example above, the `model` variable is a linear regression model that has been fitted to the data `x_values` and `y_values`. Fitting the model means finding the best line that fits the training data. Let's make two predictions using the model's `predict()` function.\n",
    "\n",
    "```python\n",
    ">>> print(model.predict([ [127], [248] ]))\n",
    "[[438.94308857, 127.14839521]]\n",
    "```\n",
    "\n",
    "The model returned an array of predictions, one prediction for each input array. The first input, `[127]`, got a prediction of `438.94308857`. The second input, `[248]`, got a prediction of `127.14839521`. The reason for predicting on an array like `[127]` and not just `127`, is because you can have a model that makes a prediction using multiple features. We'll go over using multiple variables in linear regression later in this lesson. For now, let's stick to a single value.\n",
    "\n",
    "## Linear Regression Quiz\n",
    "\n",
    "In this quiz, you'll be working with data on the average life expectancy at birth and the average BMI for males across the world. The data comes from [Gapminder](https://www.gapminder.org).\n",
    "\n",
    "The data file can be found under the \"bmi_and_life_expectancy.csv\" tab in the quiz below. It includes three columns, containing the following data:\n",
    "\n",
    "* **Country** – The country the person was born in.\n",
    "* **Life expectancy** – The average life expectancy at birth for a person in that country.\n",
    "* **BMI** – The mean BMI of males in that country.\n",
    "\n",
    "You'll need to complete each of the following steps:\n",
    "\n",
    "**1. Load the data**\n",
    "\n",
    "* The data is in the file called \"data.csv\".\n",
    "* Use pandas `read_csv` to load the data into a dataframe (don't forget to import pandas!).\n",
    "* Assign the dataframe to the variable `bmi_life_data`.\n",
    "\n",
    "**2. Build a linear regression model**\n",
    "\n",
    "* Create a regression model using scikit-learn's LinearRegression and assign it to bmi_life_model.\n",
    "* Fit the model to the data.\n",
    "\n",
    "**3. Predict using the model**\n",
    "\n",
    "Predict using a BMI of 21.07931 and assign it to the variable `laos_life_exp`."
   ]
  },
  {
   "cell_type": "code",
   "execution_count": 1,
   "metadata": {},
   "outputs": [
    {
     "data": {
      "text/plain": [
       "array([[60.31564716]])"
      ]
     },
     "execution_count": 1,
     "metadata": {},
     "output_type": "execute_result"
    }
   ],
   "source": [
    "# TODO: Add import statements\n",
    "import pandas as pd\n",
    "\n",
    "from sklearn.linear_model import LinearRegression\n",
    "\n",
    "# Assign the dataframe to this variable\n",
    "# TODO: Load the data\n",
    "bmi_life_data = pd.read_csv('data.csv')\n",
    "x_values = bmi_life_data[['BMI']]\n",
    "y_values = bmi_life_data[['Life expectancy']]\n",
    "\n",
    "# Make and fit the linear regression model\n",
    "# TODO: Fit the model and Assign it to bmi_life_model\n",
    "bmi_life_model = LinearRegression()\n",
    "bmi_life_model.fit(x_values, y_values)\n",
    "\n",
    "# Make a prediction using the model\n",
    "# TODO: Predict life expectancy for a BMI value of 21.07931\n",
    "laos_life_exp = bmi_life_model.predict([[21.07931]])\n",
    "laos_life_exp"
   ]
  }
 ],
 "metadata": {
  "kernelspec": {
   "display_name": "Python 3",
   "language": "python",
   "name": "python3"
  },
  "language_info": {
   "codemirror_mode": {
    "name": "ipython",
    "version": 3
   },
   "file_extension": ".py",
   "mimetype": "text/x-python",
   "name": "python",
   "nbconvert_exporter": "python",
   "pygments_lexer": "ipython3",
   "version": "3.8.5"
  }
 },
 "nbformat": 4,
 "nbformat_minor": 4
}
