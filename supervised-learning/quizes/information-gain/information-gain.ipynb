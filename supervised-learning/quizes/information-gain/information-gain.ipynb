{
 "cells": [
  {
   "cell_type": "markdown",
   "metadata": {},
   "source": [
    "# Quiz for Maximizing Information Gain\n",
    "\n",
    "For the following quiz, consider the data found in [this file](data.csv), consisting of twenty-four made-up insects measured on their length and color.\n",
    "\n",
    "Which of the following splitting criteria provides the most information gain for discriminating Mobugs from Lobugs?\n",
    "\n",
    "* [ ] Color = Brown\n",
    "* [ ] Color = Blue\n",
    "* [ ] Color = Green\n",
    "* [x] Length < 17.0mm\n",
    "* [ ] Length < 20.0mm"
   ]
  },
  {
   "cell_type": "code",
   "execution_count": 1,
   "metadata": {},
   "outputs": [
    {
     "data": {
      "text/html": [
       "<div>\n",
       "<style scoped>\n",
       "    .dataframe tbody tr th:only-of-type {\n",
       "        vertical-align: middle;\n",
       "    }\n",
       "\n",
       "    .dataframe tbody tr th {\n",
       "        vertical-align: top;\n",
       "    }\n",
       "\n",
       "    .dataframe thead th {\n",
       "        text-align: right;\n",
       "    }\n",
       "</style>\n",
       "<table border=\"1\" class=\"dataframe\">\n",
       "  <thead>\n",
       "    <tr style=\"text-align: right;\">\n",
       "      <th></th>\n",
       "      <th>Species</th>\n",
       "      <th>Color</th>\n",
       "      <th>Length (mm)</th>\n",
       "    </tr>\n",
       "  </thead>\n",
       "  <tbody>\n",
       "    <tr>\n",
       "      <th>0</th>\n",
       "      <td>Mobug</td>\n",
       "      <td>Brown</td>\n",
       "      <td>11.6</td>\n",
       "    </tr>\n",
       "    <tr>\n",
       "      <th>1</th>\n",
       "      <td>Mobug</td>\n",
       "      <td>Blue</td>\n",
       "      <td>16.3</td>\n",
       "    </tr>\n",
       "    <tr>\n",
       "      <th>2</th>\n",
       "      <td>Lobug</td>\n",
       "      <td>Blue</td>\n",
       "      <td>15.1</td>\n",
       "    </tr>\n",
       "    <tr>\n",
       "      <th>3</th>\n",
       "      <td>Lobug</td>\n",
       "      <td>Green</td>\n",
       "      <td>23.7</td>\n",
       "    </tr>\n",
       "    <tr>\n",
       "      <th>4</th>\n",
       "      <td>Lobug</td>\n",
       "      <td>Blue</td>\n",
       "      <td>18.4</td>\n",
       "    </tr>\n",
       "  </tbody>\n",
       "</table>\n",
       "</div>"
      ],
      "text/plain": [
       "  Species  Color  Length (mm)\n",
       "0   Mobug  Brown         11.6\n",
       "1   Mobug   Blue         16.3\n",
       "2   Lobug   Blue         15.1\n",
       "3   Lobug  Green         23.7\n",
       "4   Lobug   Blue         18.4"
      ]
     },
     "execution_count": 1,
     "metadata": {},
     "output_type": "execute_result"
    }
   ],
   "source": [
    "import pandas as pd\n",
    "\n",
    "data = pd.read_csv('data.csv')\n",
    "data.head()"
   ]
  },
  {
   "cell_type": "code",
   "execution_count": 2,
   "metadata": {},
   "outputs": [],
   "source": [
    "import numpy as np\n",
    "\n",
    "def calculate_entropy(p, total):\n",
    "    return - (p / total * np.log2(p / total) + (total - p) / total * np.log2((total - p) / total))"
   ]
  },
  {
   "cell_type": "code",
   "execution_count": 3,
   "metadata": {},
   "outputs": [],
   "source": [
    "total_count = data.shape[0]\n",
    "\n",
    "# Mobug\n",
    "mobug = data[data['Species'] == 'Mobug']\n",
    "mobug_count = mobug.shape[0]\n",
    "\n",
    "parent_entropy = calculate_entropy(mobug_count, total_count)"
   ]
  },
  {
   "cell_type": "code",
   "execution_count": 4,
   "metadata": {},
   "outputs": [],
   "source": [
    "# Color: Brown\n",
    "\n",
    "brown = data[data['Color'] == 'Brown']\n",
    "brown_count = brown.shape[0]\n",
    "\n",
    "brown_mobug = brown[brown['Species'] == 'Mobug']\n",
    "brown_mobug_count = brown_mobug.shape[0]\n",
    "\n",
    "non_brown = pd.concat([data, brown]).drop_duplicates(keep = False)\n",
    "non_brown_count = non_brown.shape[0]\n",
    "\n",
    "non_brown_mobug = non_brown[non_brown['Species'] == 'Mobug']\n",
    "non_brown_mobug_count = non_brown_mobug.shape[0]\n",
    "\n",
    "children_brown_entropy = (brown_count / total_count) * calculate_entropy(brown_mobug_count, brown_count) + \\\n",
    "                   (non_brown_count / total_count) * calculate_entropy(non_brown_mobug_count, non_brown_count)\n",
    "\n",
    "brown_entropy = parent_entropy - children_brown_entropy"
   ]
  },
  {
   "cell_type": "code",
   "execution_count": 5,
   "metadata": {},
   "outputs": [],
   "source": [
    "# Color: Blue\n",
    "\n",
    "blue = data[data['Color'] == 'Blue']\n",
    "blue_count = blue.shape[0]\n",
    "\n",
    "blue_mobug = blue[blue['Species'] == 'Mobug']\n",
    "blue_mobug_count = blue_mobug.shape[0]\n",
    "\n",
    "non_blue = pd.concat([data, blue]).drop_duplicates(keep = False)\n",
    "non_blue_count = non_blue.shape[0]\n",
    "\n",
    "non_blue_mobug = non_blue[non_blue['Species'] == 'Mobug']\n",
    "non_blue_mobug_count = non_blue_mobug.shape[0]\n",
    "\n",
    "children_blue_entropy = (blue_count / total_count) * calculate_entropy(blue_mobug_count, blue_count) + \\\n",
    "                   (non_blue_count / total_count) * calculate_entropy(non_blue_mobug_count, non_blue_count)\n",
    "\n",
    "blue_entropy = parent_entropy - children_blue_entropy"
   ]
  },
  {
   "cell_type": "code",
   "execution_count": 6,
   "metadata": {},
   "outputs": [],
   "source": [
    "# Color: Green\n",
    "\n",
    "green = data[data['Color'] == 'Green']\n",
    "green_count = green.shape[0]\n",
    "\n",
    "green_mobug = green[green['Species'] == 'Mobug']\n",
    "green_mobug_count = green_mobug.shape[0]\n",
    "\n",
    "non_green = pd.concat([data, green]).drop_duplicates(keep = False)\n",
    "non_green_count = non_green.shape[0]\n",
    "\n",
    "non_green_mobug = non_green[non_green['Species'] == 'Mobug']\n",
    "non_green_mobug_count = non_green_mobug.shape[0]\n",
    "\n",
    "children_green_entropy = (green_count / total_count) * calculate_entropy(green_mobug_count, green_count) + \\\n",
    "                   (non_green_count / total_count) * calculate_entropy(non_green_mobug_count, non_green_count)\n",
    "\n",
    "green_entropy = parent_entropy - children_green_entropy"
   ]
  },
  {
   "cell_type": "code",
   "execution_count": 7,
   "metadata": {},
   "outputs": [],
   "source": [
    "# Length: 17mm\n",
    "\n",
    "small = data[data['Length (mm)'] < 17]\n",
    "small_count = small.shape[0]\n",
    "\n",
    "small_mobug = small[small['Species'] == 'Mobug']\n",
    "small_mobug_count = small_mobug.shape[0]\n",
    "\n",
    "non_small = pd.concat([data, small]).drop_duplicates(keep = False)\n",
    "non_small_count = non_small.shape[0]\n",
    "\n",
    "non_small_mobug = non_small[non_small['Species'] == 'Mobug']\n",
    "non_small_mobug_count = non_small_mobug.shape[0]\n",
    "\n",
    "children_small_entropy = (small_count / total_count) * calculate_entropy(small_mobug_count, small_count) + \\\n",
    "                   (non_small_count / total_count) * calculate_entropy(non_small_mobug_count, non_small_count)\n",
    "\n",
    "small_entropy = parent_entropy - children_small_entropy"
   ]
  },
  {
   "cell_type": "code",
   "execution_count": 8,
   "metadata": {},
   "outputs": [],
   "source": [
    "# Length: 20mm\n",
    "\n",
    "big = data[data['Length (mm)'] >= 20]\n",
    "big_count = big.shape[0]\n",
    "\n",
    "big_mobug = big[big['Species'] == 'Mobug']\n",
    "big_mobug_count = big_mobug.shape[0]\n",
    "\n",
    "non_big = pd.concat([data, big]).drop_duplicates(keep = False)\n",
    "non_big_count = non_big.shape[0]\n",
    "\n",
    "non_big_mobug = non_big[non_big['Species'] == 'Mobug']\n",
    "non_big_mobug_count = non_big_mobug.shape[0]\n",
    "\n",
    "children_big_entropy = (big_count / total_count) * calculate_entropy(big_mobug_count, big_count) + \\\n",
    "                   (non_big_count / total_count) * calculate_entropy(non_big_mobug_count, non_big_count)\n",
    "\n",
    "big_entropy = parent_entropy - children_big_entropy"
   ]
  },
  {
   "cell_type": "code",
   "execution_count": 9,
   "metadata": {},
   "outputs": [
    {
     "name": "stdout",
     "output_type": "stream",
     "text": [
      "\n",
      "Brown: 0.06157292259666325\n",
      "Blue:  0.000589596275060833\n",
      "Green: 0.042776048498108565\n",
      "Small: 0.11260735516748976\n",
      "Big:   0.10073322588651734\n",
      "\n"
     ]
    }
   ],
   "source": [
    "print(f\"\"\"\n",
    "Brown: {brown_entropy}\n",
    "Blue:  {blue_entropy}\n",
    "Green: {green_entropy}\n",
    "Small: {small_entropy}\n",
    "Big:   {big_entropy}\n",
    "\"\"\")"
   ]
  }
 ],
 "metadata": {
  "kernelspec": {
   "display_name": "Python 3",
   "language": "python",
   "name": "python3"
  },
  "language_info": {
   "codemirror_mode": {
    "name": "ipython",
    "version": 3
   },
   "file_extension": ".py",
   "mimetype": "text/x-python",
   "name": "python",
   "nbconvert_exporter": "python",
   "pygments_lexer": "ipython3",
   "version": "3.8.5"
  }
 },
 "nbformat": 4,
 "nbformat_minor": 4
}
