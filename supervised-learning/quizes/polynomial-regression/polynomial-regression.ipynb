{
 "cells": [
  {
   "cell_type": "markdown",
   "metadata": {},
   "source": [
    "# Polynomial Regression Exercise\n",
    "\n",
    "Get some practice implementing polynomial regression in this exercise. In data.csv, you can see data generated for one predictor feature ('Var_X') and one outcome feature ('Var_Y'), following a non-linear trend. Use sklearn's [`PolynomialFeatures`](https://scikit-learn.org/stable/modules/generated/sklearn.preprocessing.PolynomialFeatures.html) class to extend the predictor feature column into multiple columns with polynomial features. Play around with different degrees of polynomial and the Test Run button to see what fits best: when you think you have the best-fitting degree, press the Submit button to check your work!\n",
    "\n",
    "Perform the following steps below:\n",
    "\n",
    "**1. Load in the data**\n",
    "\n",
    "* The data is in the file called 'data.csv'. Note that this data has a header line.\n",
    "* Make sure that you've split out the data into the predictor feature in `X` and outcome feature in `y`.\n",
    "* For `X`, make sure it is in a 2-d array of 20 rows by 1 column. You might need to use NumPy's [`reshape`](https://docs.scipy.org/doc/numpy-1.14.0/reference/generated/numpy.reshape.html) function to accomplish this.\n",
    "\n",
    "**2. Create polynomial features**\n",
    "\n",
    "* Create an instance of sklearn's [`PolynomialFeatures`](https://scikit-learn.org/stable/modules/generated/sklearn.preprocessing.PolynomialFeatures.html) class and assign it to the variable `poly_feat`. Pay attention to how to set the degree of features, since that will be how the exercise is evaluated.\n",
    "* Create the polynomial features by using the [`PolynomialFeatures`](https://scikit-learn.org/stable/modules/generated/sklearn.preprocessing.PolynomialFeatures.html) object's [`fit_transform()`](https://scikit-learn.org/stable/modules/generated/sklearn.preprocessing.PolynomialFeatures.html#sklearn.preprocessing.PolynomialFeatures.fit_transform) method. The \"fit\" side of the method considers how many features are needed in the output, and the \"transform\" side applies those considerations to the data provided to the method as an argument. Assign the new feature matrix to the `X_poly` variable.\n",
    "\n",
    "**3. Build a polynomial regression model**\n",
    "\n",
    "* Create a polynomial regression model by combining sklearn's [`LinearRegression`](https://scikit-learn.org/stable/modules/generated/sklearn.linear_model.LinearRegression.html) class with the polynomial features. Assign the fit model to `poly_model`."
   ]
  },
  {
   "cell_type": "code",
   "execution_count": 1,
   "metadata": {},
   "outputs": [
    {
     "data": {
      "text/plain": [
       "LinearRegression()"
      ]
     },
     "execution_count": 1,
     "metadata": {},
     "output_type": "execute_result"
    }
   ],
   "source": [
    "# TODO: Add import statements\n",
    "import matplotlib.pyplot as plt\n",
    "import numpy as np\n",
    "import pandas as pd\n",
    "\n",
    "from sklearn.linear_model import LinearRegression\n",
    "from sklearn.preprocessing import PolynomialFeatures\n",
    "\n",
    "# Assign the data to predictor and outcome variables\n",
    "# TODO: Load the data\n",
    "train_data = pd.read_csv('data.csv')\n",
    "X = train_data['Var_X'].values.reshape(-1, 1)\n",
    "y = train_data['Var_Y'].values\n",
    "\n",
    "# Create polynomial features\n",
    "# TODO: Create a PolynomialFeatures object, then fit and transform the\n",
    "# predictor feature\n",
    "poly_feat = PolynomialFeatures(degree = 4)\n",
    "X_poly = poly_feat.fit_transform(X)\n",
    "\n",
    "# Make and fit the polynomial regression model\n",
    "# TODO: Create a LinearRegression object and fit it to the polynomial predictor\n",
    "# features\n",
    "poly_model = LinearRegression()\n",
    "poly_model.fit(X_poly, y)\n",
    "\n",
    "# Once you've completed all of the steps, select Test Run to see your model\n",
    "# predictions against the data, or select Submit Answer to check if the degree\n",
    "# of the polynomial features is the same as ours!"
   ]
  },
  {
   "cell_type": "code",
   "execution_count": 2,
   "metadata": {},
   "outputs": [
    {
     "data": {
      "image/png": "[encoded data removed]",
      "text/plain": [
       "<Figure size 432x288 with 1 Axes>"
      ]
     },
     "metadata": {
      "needs_background": "light"
     },
     "output_type": "display_data"
    }
   ],
   "source": [
    "# This cell was added to visualize the curve.\n",
    "min_X = min(train_data['Var_X'])\n",
    "max_X = max(train_data['Var_X'])\n",
    "x = np.linspace(min_X, max_X,100).reshape(-1, 1)\n",
    "\n",
    "x_poly = poly_feat.fit_transform(x)\n",
    "predictions = poly_model.predict(x_poly.tolist())\n",
    "\n",
    "x_col = x.reshape(100,).tolist()\n",
    "predictions_col = predictions.tolist()\n",
    "\n",
    "df = pd.DataFrame({'x': x_col, 'y': predictions_col})\n",
    "plt.plot(df.x, df.y)\n",
    "\n",
    "plt.scatter(X, y)\n",
    "plt.show()"
   ]
  }
 ],
 "metadata": {
  "kernelspec": {
   "display_name": "Python 3",
   "language": "python",
   "name": "python3"
  },
  "language_info": {
   "codemirror_mode": {
    "name": "ipython",
    "version": 3
   },
   "file_extension": ".py",
   "mimetype": "text/x-python",
   "name": "python",
   "nbconvert_exporter": "python",
   "pygments_lexer": "ipython3",
   "version": "3.8.5"
  }
 },
 "nbformat": 4,
 "nbformat_minor": 4
}
