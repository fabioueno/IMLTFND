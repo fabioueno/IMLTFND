{
 "cells": [
  {
   "cell_type": "markdown",
   "metadata": {},
   "source": [
    "# Naive Bayes\n",
    "\n",
    "Naive Bayes is based on the concept of conditional probability. It has the advantage of being easy to implement and fast to train.\n",
    "\n",
    "<br><img src='assets/images/naive-bayes.png' alt='Naive Bayes' style='width: 720px'><br>\n",
    "\n",
    "Bayes Theorem helps us calculates the probabilities of an event given that another, related, happened.\n",
    "\n",
    "The main idea behind Naive Bayes is that we can say that the probability of an event $A$ given $B$ is **proportional** to the probability of the event $B$ given $A$ times the probability of $A$:\n",
    "\n",
    "<br><img src='assets/images/naive-assumption.png' alt='Naive Assumption' style='width: 720px'><br>"
   ]
  },
  {
   "cell_type": "markdown",
   "metadata": {},
   "source": [
    "## Quizes\n",
    "\n",
    "01. [Bayesian Inference](quizes/bayesian-inference/bayesian-inference.ipynb)"
   ]
  }
 ],
 "metadata": {
  "kernelspec": {
   "display_name": "Python 3",
   "language": "python",
   "name": "python3"
  },
  "language_info": {
   "codemirror_mode": {
    "name": "ipython",
    "version": 3
   },
   "file_extension": ".py",
   "mimetype": "text/x-python",
   "name": "python",
   "nbconvert_exporter": "python",
   "pygments_lexer": "ipython3",
   "version": "3.8.5"
  }
 },
 "nbformat": 4,
 "nbformat_minor": 4
}
