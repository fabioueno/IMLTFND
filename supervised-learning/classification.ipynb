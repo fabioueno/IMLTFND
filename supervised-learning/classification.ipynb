{
 "cells": [
  {
   "cell_type": "markdown",
   "metadata": {},
   "source": [
    "# Classification\n",
    "\n",
    "In Classification algorithms, the model will try to answers yes/no questions.\n",
    "\n",
    "<br><img src=\"assets/images/classification.png\" alt=\"Classification\" style=\"width: 720px\"><br>\n",
    "\n",
    "**Example**\n",
    "\n",
    "Given students results of a test and their grades in school, we need to be able to tell if a student is accepted or rejected at a university.\n",
    "\n",
    "We know that a student with a test score of 9/10 and grades of 8/10 got accepted, and a student with a test score of 3/10 and grades of 4/10 was rejected. A student with 7/10 in the test and 6/10 in school grades would be accepted or not?\n",
    "\n",
    "Looking at more data, we were able to plot the above graph, so we could assume the student got accepted!\n",
    "\n",
    "We can eye-ball this, but a computer machine cannot! The idea behind Classification algorithms is to develop a model that can identify the line that separates these two groups."
   ]
  },
  {
   "cell_type": "markdown",
   "metadata": {},
   "source": [
    "## Boundary\n",
    "\n",
    "<br><img src=\"assets/images/boundary-line.png\" alt=\"Boundary Line\" style=\"width: 720px\"><br>\n",
    "\n",
    "The Boundary line is the line that separates the two outputs (accepted or rejected). It has the following form:\n",
    "\n",
    "$$\n",
    "w_1 x_1 + w_2 x_2 + b = 0\n",
    "$$\n",
    "\n",
    "Which will be expressed as:\n",
    "\n",
    "$$\n",
    "Wx + b = 0\n",
    "$$\n",
    "\n",
    "Where \n",
    "* $W = (w_1, w_2)$\n",
    "* $x = (x_1, x_2)$\n",
    "\n",
    "The result is $y$ and can be $0$ or $1$, which indicated rejected and accepted, respectively.\n",
    "\n",
    "The prediction is the following:\n",
    "\n",
    "$$\n",
    "\\hat{y} =\n",
    "    \\begin{cases}\n",
    "        1 & \\text{if $Wx + b \\ge 0$}\\\\\n",
    "        0 & \\text{if $Wx + b < 0$}\n",
    "    \\end{cases}\n",
    "$$\n",
    "\n",
    "$y$ represents the actual value (or label), where $\\hat{y}$ is the result of the algorithms, which can differ from the original value (in the example, the red dots above the line and blue dots below it).\n",
    "\n",
    "If the case had one more column, the boundary would be a plane in a three dimensional space.\n",
    "\n",
    "<br><img src=\"assets/images/boundary-plane.png\" alt=\"Boundary Plane\" style=\"width: 720px\"><br>\n",
    "\n",
    "The equation would be:\n",
    "\n",
    "$$\n",
    "w_1 x_1 + w_2 x_2 + w_3 x_3 + b = 0\n",
    "$$\n",
    "\n",
    "And everything else is similar, except the vector would have three entries instead of two.\n",
    "\n",
    "If we had `n` columns, it'd hard to picture, but the idea is the same.\n",
    "\n",
    "<br><img src=\"assets/images/n-dimensional-boundary.png\" alt=\"N-Dimensional Boundary\" style=\"width: 720px\"><br>"
   ]
  },
  {
   "cell_type": "markdown",
   "metadata": {},
   "source": [
    "## Algorithms\n",
    "\n",
    "* [Perceptron](perceptron.ipynb)"
   ]
  }
 ],
 "metadata": {
  "kernelspec": {
   "display_name": "Python 3",
   "language": "python",
   "name": "python3"
  },
  "language_info": {
   "codemirror_mode": {
    "name": "ipython",
    "version": 3
   },
   "file_extension": ".py",
   "mimetype": "text/x-python",
   "name": "python",
   "nbconvert_exporter": "python",
   "pygments_lexer": "ipython3",
   "version": "3.8.5"
  }
 },
 "nbformat": 4,
 "nbformat_minor": 4
}
