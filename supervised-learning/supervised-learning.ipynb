{
 "cells": [
  {
   "cell_type": "markdown",
   "metadata": {},
   "source": [
    "# Supervised Learning\n",
    "\n",
    "<br><img src=\"assets/images/supervised-learning.png\" alt=\"Supervised Learning\" style=\"width: 720px\"><br>\n",
    "\n",
    "> In Supervised Machine Learning, algorithms learn from labeled data. -- Josh Bernhard\n",
    "\n",
    "After studying the labeled data, these techniques are able to determine which label should be given to new data, based on observing patterns.\n",
    "\n",
    "<br><img src=\"assets/images/supervised-learning-applications.png\" alt=\"Supervised Learning Applications\" style=\"width: 720px\"><br>\n",
    "\n",
    "Supervised Learning can be divided into two categories:\n",
    "\n",
    "* Classification:  Predict a category that an item belongs to, such as spam / not-spam e-mail, or different dog breeds.\n",
    "* [Regression](linear-regression.ipynb): Predict a numeric value, like a house price or a person’s height."
   ]
  }
 ],
 "metadata": {
  "kernelspec": {
   "display_name": "Python 3",
   "language": "python",
   "name": "python3"
  },
  "language_info": {
   "codemirror_mode": {
    "name": "ipython",
    "version": 3
   },
   "file_extension": ".py",
   "mimetype": "text/x-python",
   "name": "python",
   "nbconvert_exporter": "python",
   "pygments_lexer": "ipython3",
   "version": "3.8.5"
  }
 },
 "nbformat": 4,
 "nbformat_minor": 4
}
