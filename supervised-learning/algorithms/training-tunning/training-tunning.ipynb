{
 "cells": [
  {
   "cell_type": "markdown",
   "metadata": {},
   "source": [
    "# Training & Tunning\n",
    "\n",
    "There are two types of errors we can make in Machine Learning:\n",
    "\n",
    "* Underfitting: Oversimplification of the problem.\n",
    "* Overfitting: Overcomplication of the problem.\n",
    "\n",
    "<br><img src='images/errors.png' width='720px'><br>\n",
    "\n",
    "<img src='images/underfitting.png' style='float: left' width='480px'>\n",
    "<img src='images/overfitting.png' style='float: right' width='480px'>\n",
    "<div style='clear: both'></div>\n",
    "<br>\n",
    "\n",
    "The following contains the tradeoffs of each type of error:\n",
    "\n",
    "<br><img src='images/error-tradeoffs.png' width='720px'><br>\n",
    "\n",
    "## Model Complexity Graph\n",
    "\n",
    "It's nice to plot the graph of the complexity of the models, containing the training errors and testing errors:\n",
    "\n",
    "<br>\n",
    "<img src='images/model-complexity-graph-1.png' style='float: left' width='480px'>\n",
    "<img src='images/model-complexity-graph-2.png' style='float: right' width='480px'>\n",
    "<div style='clear: both'></div>\n",
    "<br>\n",
    "\n",
    "Looking at the graph, we can see that the ideal model would be the one with degree 2:\n",
    "\n",
    "<br><img src='images/model-complexity-graph-3.png' width='720px'><br>\n",
    "\n",
    "**But we shouldn't use the Testing Data until the very end!**\n",
    "\n",
    "### Cross Validation\n",
    "\n",
    "To bypass this problem, we split the Training Data even further, introducing the Cross Validation Data.\n",
    "\n",
    "<br><img src='images/cross-validation.png' width='720px'><br>\n",
    "\n",
    "Then we can use the graph to select the best model, just before the curves start to diverge.\n",
    "\n",
    "<br><img src='images/model-complexity-graph-4.png' width='720px'>\n",
    "\n",
    "### K-Fold Cross Validation\n",
    "\n",
    "Since we're not allowed to use the Testing Data, we may lose useful data for training our algorithm. To avoid this, we use K-Fold Cross Validation, which break our data into K buckets, then we train our model K times, each time using a different bucket.\n",
    "\n",
    "<br><img src='images/k-fold.png' width='720px'><br>"
   ]
  },
  {
   "cell_type": "markdown",
   "metadata": {},
   "source": [
    "## Quizes\n",
    "\n",
    "01. [Overfitting & Underfitting](../../quizes/overfitting-underfitting/overfitting-underfitting.ipynb)"
   ]
  }
 ],
 "metadata": {
  "kernelspec": {
   "display_name": "Python 3",
   "language": "python",
   "name": "python3"
  },
  "language_info": {
   "codemirror_mode": {
    "name": "ipython",
    "version": 3
   },
   "file_extension": ".py",
   "mimetype": "text/x-python",
   "name": "python",
   "nbconvert_exporter": "python",
   "pygments_lexer": "ipython3",
   "version": "3.8.5"
  }
 },
 "nbformat": 4,
 "nbformat_minor": 4
}
