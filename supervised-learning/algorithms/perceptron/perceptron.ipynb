{
 "cells": [
  {
   "cell_type": "markdown",
   "metadata": {},
   "source": [
    "# Perceptron\n",
    "\n",
    "> Perceptron is just an encoding of a equation into a small graph. -- Luis Serrano\n",
    "\n",
    "<img src=\"images/introduction.png\" width=\"720px\"><br>\n",
    "\n",
    "The way to do this is to fit the data and the boundary inside a node and add small nodes for the inputs. The perceptron plots the points of the inputs and checks if it's in the positive or negative area, then returns a \"yes\" or \"no\".\n",
    "\n",
    "There are two ways to represent the perceptron.\n",
    "\n",
    "The first contains the weight of the bias inside the main node. The second contains a small node along with the inputs.\n",
    "\n",
    "<br>\n",
    "<img src=\"images/perceptron-1.png\" style=\"float: left\" width=\"480px\">\n",
    "<img src=\"images/perceptron-2.png\" style=\"float: right\" width=\"480px\">\n",
    "<div style=\"clear: both\"></div>\n",
    "<br>\n",
    "\n",
    "We can simplify the representation of a Perceptron as follows:\n",
    "\n",
    "<br><img src=\"images/perceptron-representation.png\" width=\"720px\"><br>\n",
    "\n",
    "Notice we're using an implicity function called **Step Function**:\n",
    "\n",
    "<br>\n",
    "<img src=\"images/step-function-1.png\" style=\"float: left\" width=\"480px\">\n",
    "<img src=\"images/step-function-2.png\" style=\"float: right\" width=\"480px\">"
   ]
  },
  {
   "cell_type": "markdown",
   "metadata": {},
   "source": [
    "## Logical Operators\n",
    "\n",
    "Logical operators such as `AND`, `OR` and `NOT` can be represented as Perceptrons."
   ]
  },
  {
   "cell_type": "code",
   "execution_count": 1,
   "metadata": {},
   "outputs": [
    {
     "name": "stdout",
     "output_type": "stream",
     "text": [
      "Nice!  You got it all correct.\n",
      "\n",
      " Input 1    Input 2    Linear Combination    Activation Output   Is Correct\n",
      "       0          0                 -1.00                    0          Yes\n",
      "       0          1                 -0.25                    0          Yes\n",
      "       1          0                 -0.25                    0          Yes\n",
      "       1          1                  0.50                    1          Yes\n"
     ]
    }
   ],
   "source": [
    "# AND Perceptron\n",
    "import pandas as pd\n",
    "\n",
    "# TODO: Set weight1, weight2, and bias\n",
    "weight1 = 0.75\n",
    "weight2 = 0.75\n",
    "bias = -1.0\n",
    "\n",
    "# DON'T CHANGE ANYTHING BELOW\n",
    "# Inputs and outputs\n",
    "test_inputs = [(0, 0), (0, 1), (1, 0), (1, 1)]\n",
    "correct_outputs = [False, False, False, True]\n",
    "outputs = []\n",
    "\n",
    "# Generate and check output\n",
    "for test_input, correct_output in zip(test_inputs, correct_outputs):\n",
    "    linear_combination = weight1 * test_input[0] + weight2 * test_input[1] + bias\n",
    "    output = int(linear_combination >= 0)\n",
    "    is_correct_string = 'Yes' if output == correct_output else 'No'\n",
    "    outputs.append([test_input[0], test_input[1], linear_combination, output, is_correct_string])\n",
    "\n",
    "# Print output\n",
    "num_wrong = len([output[4] for output in outputs if output[4] == 'No'])\n",
    "output_frame = pd.DataFrame(outputs, columns=['Input 1', '  Input 2', '  Linear Combination', '  Activation Output', '  Is Correct'])\n",
    "if not num_wrong:\n",
    "    print('Nice!  You got it all correct.\\n')\n",
    "else:\n",
    "    print('You got {} wrong.  Keep trying!\\n'.format(num_wrong))\n",
    "print(output_frame.to_string(index=False))\n"
   ]
  },
  {
   "cell_type": "markdown",
   "metadata": {},
   "source": [
    "The `OR` Perceptron is very similar to the `AND` Perceptron. To go from one to another, we can just adjust the weights and biases (increase weights and/or descrease bias to go from `AND` to `OR`)."
   ]
  },
  {
   "cell_type": "markdown",
   "metadata": {},
   "source": [
    "The `NOT` Perceptron only looks at one of the inputs and change its value. If it's `0`, `1` is returned, and if it's `1`, `0` is returned."
   ]
  },
  {
   "cell_type": "code",
   "execution_count": 2,
   "metadata": {},
   "outputs": [
    {
     "name": "stdout",
     "output_type": "stream",
     "text": [
      "Nice!  You got it all correct.\n",
      "\n",
      " Input 1    Input 2    Linear Combination    Activation Output   Is Correct\n",
      "       0          0                   0.5                    1          Yes\n",
      "       0          1                  -0.5                    0          Yes\n",
      "       1          0                   0.5                    1          Yes\n",
      "       1          1                  -0.5                    0          Yes\n"
     ]
    }
   ],
   "source": [
    "# NOT Perceptron\n",
    "import pandas as pd\n",
    "\n",
    "# TODO: Set weight1, weight2, and bias\n",
    "weight1 = 0\n",
    "weight2 = -1.0\n",
    "bias = 0.5\n",
    "\n",
    "# DON'T CHANGE ANYTHING BELOW\n",
    "# Inputs and outputs\n",
    "test_inputs = [(0, 0), (0, 1), (1, 0), (1, 1)]\n",
    "correct_outputs = [True, False, True, False]\n",
    "outputs = []\n",
    "\n",
    "# Generate and check output\n",
    "for test_input, correct_output in zip(test_inputs, correct_outputs):\n",
    "    linear_combination = weight1 * test_input[0] + weight2 * test_input[1] + bias\n",
    "    output = int(linear_combination >= 0)\n",
    "    is_correct_string = 'Yes' if output == correct_output else 'No'\n",
    "    outputs.append([test_input[0], test_input[1], linear_combination, output, is_correct_string])\n",
    "\n",
    "# Print output\n",
    "num_wrong = len([output[4] for output in outputs if output[4] == 'No'])\n",
    "output_frame = pd.DataFrame(outputs, columns=['Input 1', '  Input 2', '  Linear Combination', '  Activation Output', '  Is Correct'])\n",
    "if not num_wrong:\n",
    "    print('Nice!  You got it all correct.\\n')\n",
    "else:\n",
    "    print('You got {} wrong.  Keep trying!\\n'.format(num_wrong))\n",
    "print(output_frame.to_string(index=False))"
   ]
  },
  {
   "cell_type": "markdown",
   "metadata": {},
   "source": [
    "## Perceptron Trick\n",
    "\n",
    "In practice we don't build the Perceptron ourselves. Instead, we provide the result and it builds itself.\n",
    "\n",
    "\n",
    "The idea is that the Perceptron starts with a random linear equation and, for each misclassified point, it's coeficients are updated. In misclassified negative areas, the coeficients are subtracted the point's coordinates multiplied by a small number, called **Learning Rate**. For positive numbers, the coeficients are added.\n",
    "\n",
    "<br>\n",
    "<img src=\"images/perceptron-trick-negative.png\" style=\"float: left\" width=\"480px\">\n",
    "<img src=\"images/perceptron-trick-positive.png\" style=\"float: right\" width=\"480px\">"
   ]
  },
  {
   "cell_type": "markdown",
   "metadata": {},
   "source": [
    "## Quizes\n",
    "\n",
    "01. [Perceptron](../../quizes/perceptron/perceptron.ipynb)"
   ]
  }
 ],
 "metadata": {
  "kernelspec": {
   "display_name": "Python 3",
   "language": "python",
   "name": "python3"
  },
  "language_info": {
   "codemirror_mode": {
    "name": "ipython",
    "version": 3
   },
   "file_extension": ".py",
   "mimetype": "text/x-python",
   "name": "python",
   "nbconvert_exporter": "python",
   "pygments_lexer": "ipython3",
   "version": "3.8.5"
  }
 },
 "nbformat": 4,
 "nbformat_minor": 4
}
