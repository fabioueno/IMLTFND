{
 "cells": [
  {
   "cell_type": "markdown",
   "metadata": {},
   "source": [
    "# Reinforcement Learning\n",
    "\n",
    "<br><img src=\"../assets/images/reinforcement-learning.png\" alt=\"Reinforcement Learning\" style=\"width:720px\"><br>\n",
    "\n",
    "> Reinforcement Learning is used to train algorithm that learn based on taking certain actions and receiving rewards for those actions. -- Josh Bernhard\n",
    "\n",
    "Applications include:\n",
    "\n",
    "* Self-driving cars.\n",
    "* Game-playing agents."
   ]
  },
  {
   "cell_type": "code",
   "execution_count": null,
   "metadata": {},
   "outputs": [],
   "source": []
  }
 ],
 "metadata": {
  "kernelspec": {
   "display_name": "Python 3",
   "language": "python",
   "name": "python3"
  },
  "language_info": {
   "codemirror_mode": {
    "name": "ipython",
    "version": 3
   },
   "file_extension": ".py",
   "mimetype": "text/x-python",
   "name": "python",
   "nbconvert_exporter": "python",
   "pygments_lexer": "ipython3",
   "version": "3.8.5"
  }
 },
 "nbformat": 4,
 "nbformat_minor": 4
}
