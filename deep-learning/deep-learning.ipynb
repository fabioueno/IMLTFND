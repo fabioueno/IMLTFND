{
 "cells": [
  {
   "cell_type": "markdown",
   "metadata": {},
   "source": [
    "# Deep Learning\n",
    "\n",
    "<br><img src=\"images/deep-learning.png\" width=\"720px\"><br>\n",
    "\n",
    "> Deep Learning has beaten all other Machine Learning algorithms and can be used for Supervised, Unsupervised and Reinforcement Learning. -- Josh Bernhard\n",
    "\n",
    "Over time we’ve cared less and less about how we make predictions and now we care more about the accuracy of our predictions. This connects well with Deep Learning, where we rarely understand all of how or why our model makes certain predictions.\n",
    "\n",
    "<br><img src=\"images/deep-learning-barriers.png\" width=\"720px\"><br>\n",
    "\n",
    "Deep Learning has three major barriers:\n",
    "\n",
    "* It requires a lot of data.\n",
    "* It requires a lot of computing power.\n",
    "* It’s complex and flexible, so it’s hard to understand the reason behind some predictions.\n",
    "\n",
    "**The theory behind Neural Networks and Gradient Descent (Core Curriculum 3, Lessons 1-3) are the same as explained in [AI Programming with Python Nanodegree](https://github.com/fabioueno/AIPPND).**"
   ]
  }
 ],
 "metadata": {
  "kernelspec": {
   "display_name": "Python 3",
   "language": "python",
   "name": "python3"
  },
  "language_info": {
   "codemirror_mode": {
    "name": "ipython",
    "version": 3
   },
   "file_extension": ".py",
   "mimetype": "text/x-python",
   "name": "python",
   "nbconvert_exporter": "python",
   "pygments_lexer": "ipython3",
   "version": "3.8.5"
  }
 },
 "nbformat": 4,
 "nbformat_minor": 4
}
