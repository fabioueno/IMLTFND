{
 "cells": [
  {
   "cell_type": "markdown",
   "metadata": {},
   "source": [
    "# Introduction to Machine Learning with TensorFlow\n",
    "\n",
    "> Machine Learning is teaching computers to learn to perform tasks from past experience (data). -- Luis Serrano\n",
    "\n",
    "ML is widely used for many things:\n",
    "\n",
    "* Image and voice recognition\n",
    "* Spam detection\n",
    "* Stock market\n",
    "* Teaching a computer how to play chess\n",
    "* Self-driving cars\n",
    "\n",
    "<br><img src=\"images/machine-learning-types.png\" width=\"720px\"><br>\n",
    "\n",
    "There are three main types of Machine Learning:\n",
    "\n",
    "* [Supervised Learning](supervised-learning/supervised-learning.ipynb)\n",
    "* [Unsupervised Learning](unsupervised-learning/unsupervised-learning.ipynb)\n",
    "* [Reinforcement Learning](reinforcement-learning/reinforcement-learning.ipynb)\n",
    "\n",
    "There's also another type of Machine Learning algorithm, the [Deep Learning](deep-learning/deep-learning.ipynb), which can be used for all three main types."
   ]
  },
  {
   "cell_type": "markdown",
   "metadata": {},
   "source": [
    "## Notes & Others\n",
    "\n",
    "1. [Introduction to Machine Learning: Part One](https://youtu.be/hcV0POhJzmQ), by Allie K Miller.\n",
    "2. [Introduction to Machine Learning: Part Two](https://youtu.be/xIp0KhV3Czk), by Allie K Miller."
   ]
  }
 ],
 "metadata": {
  "kernelspec": {
   "display_name": "Python 3",
   "language": "python",
   "name": "python3"
  },
  "language_info": {
   "codemirror_mode": {
    "name": "ipython",
    "version": 3
   },
   "file_extension": ".py",
   "mimetype": "text/x-python",
   "name": "python",
   "nbconvert_exporter": "python",
   "pygments_lexer": "ipython3",
   "version": "3.8.5"
  }
 },
 "nbformat": 4,
 "nbformat_minor": 4
}
